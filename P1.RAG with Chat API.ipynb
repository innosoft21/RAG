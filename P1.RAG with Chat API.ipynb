{
 "cells": [
  {
   "cell_type": "markdown",
   "metadata": {
    "id": "Qqa8FE7oTEtl"
   },
   "source": [
    "## 부루마블 게임 마스터 구현하기"
   ]
  },
  {
   "cell_type": "markdown",
   "metadata": {
    "id": "QW5rfjvRQZOx"
   },
   "source": [
    "### 보드게임 규칙 안내\n",
    "* 여러분은 부루마블 게임의 게임 마스터입니다.\n",
    "* 다양한 상황에서 규칙에 따라 플레이어들의 행동을 제한해야합니다.\n",
    "* 주어진 룰에 따라 이를 RAG으로 참고해 규칙에 대해 설명할 수 있는 게임 마스터 AI를 구현해보세요."
   ]
  },
  {
   "cell_type": "code",
   "execution_count": null,
   "metadata": {
    "id": "BlpCNiQdRDBA"
   },
   "outputs": [],
   "source": [
    "import os\n",
    "\n",
    "os.environ[\"OPENAI_API_KEY\"] = \"\""
   ]
  },
  {
   "cell_type": "code",
   "execution_count": null,
   "metadata": {
    "id": "wKpZTqMTWS7O"
   },
   "outputs": [],
   "source": [
    "from openai import OpenAI\n",
    "\n",
    "# models\n",
    "EMBEDDING_MODEL = \"text-embedding-3-small\"\n",
    "GPT_MODEL = \"gpt-4o-mini\"\n",
    "\n",
    "client = OpenAI()"
   ]
  },
  {
   "cell_type": "markdown",
   "metadata": {
    "id": "LdhJjqFqRDml"
   },
   "source": [
    "### 문제\n",
    "* 게임의 룰이 상당히 길기 때문에 이 내용들은 직접 숙지하기가 어렵습니다. 따라서 이를 도와줄 AI 모델을 활용해 규칙을 안내해보도록 하겠습니다.\n",
    "* 우선 게임의 룰 데이터를 이용해 모델이 참고할 수 있도록 구현해주세요\n",
    "* openai embedding과 chroma db를 이용해서 구현해주세요."
   ]
  },
  {
   "cell_type": "markdown",
   "metadata": {
    "id": "Lv9RoJmFzVuN"
   },
   "source": [
    "### 참고자료\n",
    "* blumable.pdf 파일을 `load`해 이용해주세요.\n",
    "* PyPDF2를 이용해 pdf 파일을 로드하는 방법을 chatGPT를 이용해 구현해보세요."
   ]
  },
  {
   "cell_type": "code",
   "execution_count": null,
   "metadata": {},
   "outputs": [],
   "source": [
    "# from google.colab import drive\n",
    "# drive.mount('/content/drive')"
   ]
  },
  {
   "cell_type": "code",
   "execution_count": null,
   "metadata": {
    "id": "x6P4jpqtavi7"
   },
   "outputs": [],
   "source": [
    "pdf_path = \"blumable.pdf\""
   ]
  },
  {
   "cell_type": "code",
   "execution_count": null,
   "metadata": {
    "id": "NpUTKzS8J7eq"
   },
   "outputs": [],
   "source": [
    "#RAG참조 코드\n",
    "\n",
    "# PDF 파일 열기\n",
    "with open(pdf_path, 'rb') as file:\n",
    "    # PyPDF2 PdfFileReader 객체 생성\n",
    "    pdf_reader = PyPDF2.PdfReader(file)\n",
    "\n",
    "    # 텍스트 저장을 위한 빈 문자열\n",
    "    text = \"\"\n",
    "print(text)\n",
    "\n",
    "import chromadb\n",
    "from chromadb.utils.embedding_functions import OpenAIEmbeddingFunction\n",
    "\n",
    "embeddding_function = OpenAIEmbeddingFunction(api_key=os.getenv(\"OPENAI_API_KEY\"),\n",
    "                                              model_name=EMBEDDING_MODEL)\n",
    "chroma_client = chromadb.Client()\n",
    "corpus_collection = chroma_client.create_collection(name=\"boardgame\",\n",
    "                                                    embedding_function=embeddding_function)\n",
    "\n",
    "def split_string_into_chunks(input_string, chunk_size):\n",
    "    return []\n",
    "input_string = text\n",
    "chunk_size = 1000  # 분할할 문자열의 길이\n",
    "\n",
    "chunks = split_string_into_chunks(input_string, chunk_size)\n",
    "\n",
    "# 결과 출력\n",
    "for i, chunk in enumerate(chunks):\n",
    "    print(f\"Chunk {i+1}:\\n{chunk}\\n\")\n",
    "\n",
    "for i, chunk in enumerate(chunks):\n",
    "    corpus_collection.add(\n",
    "    )\n",
    "\n",
    "# 출력 잘 되는지 확인    \n",
    "query_result = corpus_collection.query(query_texts=\"부루마블은 어떤 게임인가요?\", n_results=7)\n",
    "query_result['documents'][0]\n",
    "\n",
    "def build_prompt_with_context(text, context):\n",
    "    if isinstance(context[0], list):\n",
    "        context = [item for sublist in context for item in sublist]\n",
    "    return []\n",
    "    \n",
    "def assess_claims_with_context(text, context):\n",
    "    responses = []\n",
    "    # the OpenAI API 쿼리\n",
    "    response = client.chat.completions.create(\n",
    "    )\n",
    "    responses.append(response.choices[0].message.content)\n",
    "\n",
    "    return responses\n",
    "\n",
    "def RAG_chat(prompt):\n",
    "    query_result = corpus_collection.query(query_texts=prompt, n_results=7)\n",
    "    res = assess_claims_with_context(prompt, query_result['documents'])\n",
    "    return res"
   ]
  },
  {
   "cell_type": "code",
   "execution_count": null,
   "metadata": {},
   "outputs": [],
   "source": []
  },
  {
   "cell_type": "markdown",
   "metadata": {
    "id": "c3Vc56K_Ub7x"
   },
   "source": [
    "### 출력\n",
    "* 아래 세 질문에 대한 답을 알려주세요\n",
    "\n",
    "\n",
    "1. 게임에서 땅 증서가 5~6장만 남았을 때 경매는 어떻게 진행되나요?\n",
    "2. 특수 룰 중 '우주여행 제약룰'에 따르면, 콜롬비아호를 소유한 플레이어에게 어떤 제한이 적용되나요?\n",
    "3. 게임 중에 땅 증서를 경매에 부치는 경우, 경매 과정은 어떻게 진행되나요?\n",
    "\n",
    "\n",
    "\n",
    "\n",
    "\n",
    "\n",
    "\n",
    "\n",
    "\n"
   ]
  },
  {
   "cell_type": "code",
   "execution_count": null,
   "metadata": {
    "id": "PRFUvXuQTX6l"
   },
   "outputs": [],
   "source": []
  }
 ],
 "metadata": {
  "colab": {
   "authorship_tag": "ABX9TyO9JrqpoMJ/+2Kp3wz9e+A3",
   "mount_file_id": "1xwObDEdm9Oom6NbkN0_pE0WMIcSZGI6d",
   "provenance": []
  },
  "kernelspec": {
   "display_name": "base",
   "language": "python",
   "name": "python3"
  },
  "language_info": {
   "codemirror_mode": {
    "name": "ipython",
    "version": 3
   },
   "file_extension": ".py",
   "mimetype": "text/x-python",
   "name": "python",
   "nbconvert_exporter": "python",
   "pygments_lexer": "ipython3",
   "version": "3.12.4"
  }
 },
 "nbformat": 4,
 "nbformat_minor": 0
}
