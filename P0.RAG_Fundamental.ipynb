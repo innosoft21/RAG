{
 "cells": [
  {
   "cell_type": "markdown",
   "metadata": {},
   "source": [
    "##RAG Fundamental##"
   ]
  },
  {
   "cell_type": "markdown",
   "metadata": {},
   "source": [
    "1. RAG관련 라이브러리 설치 : requirements.txt이용\n",
    "\n",
    "  *설치마친 후 아래 코드 실행"
   ]
  },
  {
   "cell_type": "code",
   "execution_count": null,
   "metadata": {},
   "outputs": [],
   "source": [
    "#아래 설치 실행\n",
    "\n",
    "%pip install llama-index-llms-openai -q\n",
    "%pip install llama-index-multi-modal-llms-openai -q\n",
    "%pip install llama-index-readers-file -q\n",
    "%pip install -U llama-index-core -q"
   ]
  },
  {
   "cell_type": "markdown",
   "metadata": {},
   "source": [
    "2. OPENAI API KEY연결"
   ]
  },
  {
   "cell_type": "code",
   "execution_count": null,
   "metadata": {},
   "outputs": [],
   "source": [
    "import getpass\n",
    "import os\n",
    "\n",
    "os.environ[\"OPENAI_API_KEY\"] = \"\" #Key입력"
   ]
  },
  {
   "cell_type": "markdown",
   "metadata": {},
   "source": [
    "3. OPENAI GPT모델 리스트 확인\n",
    "\n",
    "아래 코드 완성하라. client.models.list() 이용하고 'gpt'로 시작하는 모델 리스트 출력"
   ]
  },
  {
   "cell_type": "code",
   "execution_count": null,
   "metadata": {},
   "outputs": [],
   "source": [
    "from openai import OpenAI\n",
    "\n",
    "client = OpenAI()\n",
    "model_list = #todo \n",
    "for m in model_list:\n",
    "    print(m)"
   ]
  },
  {
   "cell_type": "markdown",
   "metadata": {},
   "source": [
    "4. 입문 지식 정리"
   ]
  },
  {
   "cell_type": "markdown",
   "metadata": {},
   "source": [
    "아래 질문에 대해 답변\n",
    "\n",
    "1) GPT4에서 사용하는 인코딩방식은?\n",
    "\n",
    "2) RAG에서 유사도 검색을 하는 이유\n",
    "\n",
    "3) Chromadb와 FAISS의 차이점\n",
    "\n",
    "4) llama index를 사용하면 좋은점\n",
    "\n",
    "5) Function call을 구현하여 LLM에 질문을 하면 좋은 점\n",
    "\n",
    "6) Assistant API에서 Thread의 역할은?"
   ]
  },
  {
   "cell_type": "code",
   "execution_count": null,
   "metadata": {},
   "outputs": [],
   "source": [
    "#답변"
   ]
  }
 ],
 "metadata": {
  "kernelspec": {
   "display_name": "base",
   "language": "python",
   "name": "python3"
  },
  "language_info": {
   "codemirror_mode": {
    "name": "ipython",
    "version": 3
   },
   "file_extension": ".py",
   "mimetype": "text/x-python",
   "name": "python",
   "nbconvert_exporter": "python",
   "pygments_lexer": "ipython3",
   "version": "3.12.4"
  }
 },
 "nbformat": 4,
 "nbformat_minor": 2
}
